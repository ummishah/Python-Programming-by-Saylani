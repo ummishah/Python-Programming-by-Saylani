{
 "cells": [
  {
   "cell_type": "code",
   "execution_count": 2,
   "metadata": {},
   "outputs": [
    {
     "name": "stdout",
     "output_type": "stream",
     "text": [
      "Total marks for each subject is 100.\n",
      "Please enter marks for Subject 1: 20\n",
      "Please enter marks for Subject 2: 40\n",
      "Please enter marks for Subject 3: 33\n",
      "Please enter marks for Subject 4: 55\n",
      "Please enter marks for Subject 5: 90\n",
      "D\n"
     ]
    }
   ],
   "source": [
    "#Q1\n",
    "print(\"Total marks for each subject is 100.\")\n",
    "sub1 = int(input(\"Please enter marks for Subject 1: \"))\n",
    "sub2 = int(input(\"Please enter marks for Subject 2: \"))\n",
    "sub3 = int(input(\"Please enter marks for Subject 3: \"))\n",
    "sub4 = int(input(\"Please enter marks for Subject 4: \"))\n",
    "sub5 = int(input(\"Please enter marks for Subject 5: \"))\n",
    "\n",
    "percent = (sub1+sub2+sub3+sub4+sub5)*100/500\n",
    "\n",
    "if percent <= 100 and percent >= 80:\n",
    "    print(\"A+\")\n",
    "elif percent < 80 and percent >= 70:\n",
    "    print(\"A\")\n",
    "elif percent < 70 and percent >= 60:\n",
    "    print(\"B\")\n",
    "elif percent < 60 and percent >= 50:\n",
    "    print(\"C\")\n",
    "elif percent < 50 and percent >= 40:\n",
    "    print(\"D\")\n",
    "elif percent < 40 and percent >= 33:\n",
    "    print(\"E\")\n",
    "elif percent < 33 and percent >= 0:\n",
    "    print(\"F\")\n",
    "else:\n",
    "    print(\"Invalid input!\")\n"
   ]
  },
  {
   "cell_type": "code",
   "execution_count": 4,
   "metadata": {},
   "outputs": [
    {
     "name": "stdout",
     "output_type": "stream",
     "text": [
      "Please enter any number: 30\n",
      "Number is even.\n"
     ]
    }
   ],
   "source": [
    "#Q2\n",
    "num = int(input(\"Please enter any number: \"))\n",
    "\n",
    "if(num%2):\n",
    "    print(\"Number is odd.\")\n",
    "else:\n",
    "    print(\"Number is even.\")"
   ]
  },
  {
   "cell_type": "code",
   "execution_count": 5,
   "metadata": {},
   "outputs": [
    {
     "name": "stdout",
     "output_type": "stream",
     "text": [
      "5\n"
     ]
    }
   ],
   "source": [
    "#Q3\n",
    "arr = [2,4,56,2,23]\n",
    "\n",
    "print(len(arr))"
   ]
  },
  {
   "cell_type": "code",
   "execution_count": 6,
   "metadata": {},
   "outputs": [
    {
     "name": "stdout",
     "output_type": "stream",
     "text": [
      "87\n"
     ]
    }
   ],
   "source": [
    "#Q4\n",
    "arr = [2,4,56,2,23]\n",
    "\n",
    "print(sum(arr))"
   ]
  },
  {
   "cell_type": "code",
   "execution_count": 7,
   "metadata": {},
   "outputs": [
    {
     "name": "stdout",
     "output_type": "stream",
     "text": [
      "56\n"
     ]
    }
   ],
   "source": [
    "#Q5\n",
    "arr = [2,4,56,2,23]\n",
    "\n",
    "print(max(arr))"
   ]
  },
  {
   "cell_type": "code",
   "execution_count": 17,
   "metadata": {},
   "outputs": [
    {
     "name": "stdout",
     "output_type": "stream",
     "text": [
      "[1, 1, 2, 3]\n"
     ]
    }
   ],
   "source": [
    "#Q6\n",
    "arr = [1, 1, 2, 3, 5, 8, 13, 21, 34, 55, 89]\n",
    "final = list(filter((5).__gt__, arr))\n",
    "print(final)"
   ]
  },
  {
   "cell_type": "code",
   "execution_count": null,
   "metadata": {},
   "outputs": [],
   "source": []
  },
  {
   "cell_type": "code",
   "execution_count": null,
   "metadata": {},
   "outputs": [],
   "source": []
  }
 ],
 "metadata": {
  "kernelspec": {
   "display_name": "Python 3",
   "language": "python",
   "name": "python3"
  },
  "language_info": {
   "codemirror_mode": {
    "name": "ipython",
    "version": 3
   },
   "file_extension": ".py",
   "mimetype": "text/x-python",
   "name": "python",
   "nbconvert_exporter": "python",
   "pygments_lexer": "ipython3",
   "version": "3.6.5"
  }
 },
 "nbformat": 4,
 "nbformat_minor": 4
}
