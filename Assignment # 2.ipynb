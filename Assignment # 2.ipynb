{
 "cells": [
  {
   "cell_type": "code",
   "execution_count": 4,
   "metadata": {},
   "outputs": [
    {
     "name": "stdin",
     "output_type": "stream",
     "text": [
      "Please enter percentage:  55\n"
     ]
    },
    {
     "name": "stdout",
     "output_type": "stream",
     "text": [
      "C\n"
     ]
    }
   ],
   "source": [
    "percent = int(input(\"Please enter percentage: \"))\n",
    "if percent <= 100 and percent >= 80:\n",
    "    print(\"A+\")\n",
    "elif percent < 80 and percent >= 70:\n",
    "    print(\"A\")\n",
    "elif percent < 70 and percent >= 60:\n",
    "    print(\"B\")\n",
    "elif percent < 60 and percent >= 50:\n",
    "    print(\"C\")\n",
    "elif percent < 50 and percent >= 40:\n",
    "    print(\"D\")\n",
    "elif percent < 40 and percent >= 33:\n",
    "    print(\"E\")\n",
    "elif percent < 33 and percent >= 0:\n",
    "    print(\"F\")\n",
    "else:\n",
    "    print(\"Invalid input!\")\n"
   ]
  },
  {
   "cell_type": "code",
   "execution_count": null,
   "metadata": {},
   "outputs": [],
   "source": []
  }
 ],
 "metadata": {
  "kernelspec": {
   "display_name": "Python 3",
   "language": "python",
   "name": "python3"
  },
  "language_info": {
   "codemirror_mode": {
    "name": "ipython",
    "version": 3
   },
   "file_extension": ".py",
   "mimetype": "text/x-python",
   "name": "python",
   "nbconvert_exporter": "python",
   "pygments_lexer": "ipython3",
   "version": "3.7.3"
  }
 },
 "nbformat": 4,
 "nbformat_minor": 4
}
