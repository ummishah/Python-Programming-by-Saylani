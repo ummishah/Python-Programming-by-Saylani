{
 "cells": [
  {
   "cell_type": "code",
   "execution_count": 5,
   "metadata": {},
   "outputs": [
    {
     "name": "stdout",
     "output_type": "stream",
     "text": [
      "8\n",
      "40320\n"
     ]
    }
   ],
   "source": [
    "#Q1\n",
    "def factorial(num):\n",
    "    result=1\n",
    "    for x in range(1,num+1):\n",
    "        result*=x\n",
    "    print(result)    \n",
    "\n",
    "factorial(int(input()))"
   ]
  },
  {
   "cell_type": "code",
   "execution_count": 12,
   "metadata": {},
   "outputs": [
    {
     "name": "stdout",
     "output_type": "stream",
     "text": [
      "avADDD\n",
      "upper case letters:  4\n",
      "lower case letters:  2\n"
     ]
    }
   ],
   "source": [
    "#Q2\n",
    "def counter(text):\n",
    "    upper=0\n",
    "    lower=0\n",
    "    text=list(text)\n",
    "    for x in text:\n",
    "        tmp=ord(x)\n",
    "        if tmp >= 97 and tmp <= 122:\n",
    "            lower+=1\n",
    "        elif tmp >= 65 and tmp <= 90:\n",
    "            upper+=1\n",
    "            \n",
    "    print('upper case letters: ',upper)\n",
    "    print('lower case letters: ',lower)\n",
    "counter(input())    "
   ]
  },
  {
   "cell_type": "code",
   "execution_count": 15,
   "metadata": {},
   "outputs": [
    {
     "name": "stdout",
     "output_type": "stream",
     "text": [
      "2 6 4 22 "
     ]
    }
   ],
   "source": [
    "#Q3\n",
    "def evencount(num):\n",
    "    for x in num:\n",
    "        if x%2==0:\n",
    "            print(x,end=' ')\n",
    "        \n",
    "list1 = [1,2,45,6,3,4,5,22]\n",
    "evencount(list1)"
   ]
  },
  {
   "cell_type": "code",
   "execution_count": 20,
   "metadata": {},
   "outputs": [
    {
     "name": "stdout",
     "output_type": "stream",
     "text": [
      "radar is palindrome.\n",
      "abcd is not palindrome.\n"
     ]
    }
   ],
   "source": [
    "#Q4\n",
    "def palcheck(text):\n",
    "    tmp = text[::-1]\n",
    "    if tmp == text:\n",
    "        print(text,'is palindrome.')\n",
    "    else:\n",
    "        print(text,'is not palindrome.')\n",
    "        \n",
    "palcheck('radar')\n",
    "palcheck('abcd')"
   ]
  },
  {
   "cell_type": "code",
   "execution_count": 27,
   "metadata": {},
   "outputs": [
    {
     "name": "stdout",
     "output_type": "stream",
     "text": [
      "44 is not prime.\n",
      "43 is prime.\n"
     ]
    }
   ],
   "source": [
    "#Q5\n",
    "def primecheck(num):\n",
    "    flag=True\n",
    "    for x in range(2,(num//2)+1):\n",
    "        if (num%x) == 0.0:\n",
    "            flag=False\n",
    "    if(flag):\n",
    "        print(num, 'is prime.')\n",
    "    else:\n",
    "        print(num,'is not prime.')\n",
    "\n",
    "primecheck(44)\n",
    "primecheck(43)"
   ]
  },
  {
   "cell_type": "code",
   "execution_count": 30,
   "metadata": {},
   "outputs": [
    {
     "name": "stdout",
     "output_type": "stream",
     "text": [
      "['orange', 'apple', 'bread', 'tomato', 'potato']\n"
     ]
    }
   ],
   "source": [
    "#Q6\n",
    "def shoplist(*lists):\n",
    "    temp=[]\n",
    "    for x in lists:\n",
    "        temp.extend(x)\n",
    "    print(temp)\n",
    "\n",
    "list1=['orange','apple','bread']\n",
    "list2=['tomato','potato']\n",
    "shoplist(list1,list2)"
   ]
  },
  {
   "cell_type": "code",
   "execution_count": null,
   "metadata": {},
   "outputs": [],
   "source": []
  },
  {
   "cell_type": "code",
   "execution_count": null,
   "metadata": {},
   "outputs": [],
   "source": []
  }
 ],
 "metadata": {
  "kernelspec": {
   "display_name": "Python 3",
   "language": "python",
   "name": "python3"
  },
  "language_info": {
   "codemirror_mode": {
    "name": "ipython",
    "version": 3
   },
   "file_extension": ".py",
   "mimetype": "text/x-python",
   "name": "python",
   "nbconvert_exporter": "python",
   "pygments_lexer": "ipython3",
   "version": "3.6.5"
  }
 },
 "nbformat": 4,
 "nbformat_minor": 2
}
