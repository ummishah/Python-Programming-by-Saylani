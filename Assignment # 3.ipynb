{
 "cells": [
  {
   "cell_type": "code",
   "execution_count": 42,
   "metadata": {},
   "outputs": [
    {
     "name": "stdout",
     "output_type": "stream",
     "text": [
      "Please enter operator: a\n",
      "Please enter first number: 2\n",
      "Please enter second number: 4\n",
      "please enter valid operator\n"
     ]
    }
   ],
   "source": [
    "#Q1\n",
    "op = input(\"Please enter operator: \")\n",
    "val1 = int(input(\"Please enter first number: \"))\n",
    "val2 = int(input(\"Please enter second number: \"))\n",
    "val = 0\n",
    "\n",
    "if op == '+':\n",
    "    val = val1 + val2\n",
    "    \n",
    "elif op == '-':\n",
    "    val = val1 - val2\n",
    "    \n",
    "elif op == '*':\n",
    "    val = val1 * val2\n",
    "    \n",
    "elif op == '/':\n",
    "    val = val1 / val2\n",
    "    \n",
    "elif op == 'power':\n",
    "    val = val1**val2\n",
    "    \n",
    "else:\n",
    "    val = \"please enter valid operator\"\n",
    "\n",
    "print(str(val))"
   ]
  },
  {
   "cell_type": "code",
   "execution_count": 41,
   "metadata": {},
   "outputs": [
    {
     "name": "stdout",
     "output_type": "stream",
     "text": [
      "There is int value in list.\n"
     ]
    }
   ],
   "source": [
    "#Q2\n",
    "a = [\"a\",\"11e\",1,44,\"afs\"]\n",
    "flag = False\n",
    "for i in a:\n",
    "    if type(i) is (int or float):\n",
    "        flag = True\n",
    "        break\n",
    "if flag:\n",
    "    print(\"There is int value in list.\")\n",
    "else:\n",
    "    print(\"There is no int value in list.\")"
   ]
  },
  {
   "cell_type": "code",
   "execution_count": 20,
   "metadata": {},
   "outputs": [
    {
     "name": "stdout",
     "output_type": "stream",
     "text": [
      "{1: 'abc', 2: 'add', 22: 33}\n"
     ]
    }
   ],
   "source": [
    "#Q3\n",
    "a = {1:\"abc\",2:'add'}\n",
    "a[22] = 33\n",
    "\n",
    "print(a)"
   ]
  },
  {
   "cell_type": "code",
   "execution_count": 23,
   "metadata": {},
   "outputs": [
    {
     "name": "stdout",
     "output_type": "stream",
     "text": [
      "77\n"
     ]
    }
   ],
   "source": [
    "#Q4\n",
    "a = {1: 'abc', 2: 'add', 22: 33,11: 44}\n",
    "sum = 0\n",
    "for i in list(a.values()):\n",
    "    if type(i) is (int or float):\n",
    "        sum += i\n",
    "\n",
    "print(sum)"
   ]
  },
  {
   "cell_type": "code",
   "execution_count": 43,
   "metadata": {},
   "outputs": [
    {
     "name": "stdout",
     "output_type": "stream",
     "text": [
      "duplicate items:  [1, 2, 1, 4, 5, 1, 2]\n"
     ]
    }
   ],
   "source": [
    "#Q5\n",
    "a = [1,2,4,5,1,2,3,1,4,5,6,1,2]\n",
    "b = []\n",
    "c = []\n",
    "for i in a:\n",
    "    if i not in b:\n",
    "        b.append(i)\n",
    "    else: \n",
    "        c.append(i)\n",
    "\n",
    "print(\"duplicate items: \", c)\n"
   ]
  },
  {
   "cell_type": "code",
   "execution_count": 34,
   "metadata": {},
   "outputs": [
    {
     "name": "stdout",
     "output_type": "stream",
     "text": [
      "Key Exists!\n"
     ]
    }
   ],
   "source": [
    "#Q6\n",
    "\n",
    "a = {1: 'abc', 2: 'add', 22: 33,11: 44}\n",
    "b = 22\n",
    "\n",
    "if b in a.keys():\n",
    "    print(\"Key Exists!\")\n",
    "else:\n",
    "    print(\"Key doesn't exist.\")"
   ]
  },
  {
   "cell_type": "code",
   "execution_count": null,
   "metadata": {},
   "outputs": [],
   "source": []
  }
 ],
 "metadata": {
  "kernelspec": {
   "display_name": "Python 3",
   "language": "python",
   "name": "python3"
  },
  "language_info": {
   "codemirror_mode": {
    "name": "ipython",
    "version": 3
   },
   "file_extension": ".py",
   "mimetype": "text/x-python",
   "name": "python",
   "nbconvert_exporter": "python",
   "pygments_lexer": "ipython3",
   "version": "3.6.5"
  }
 },
 "nbformat": 4,
 "nbformat_minor": 2
}
