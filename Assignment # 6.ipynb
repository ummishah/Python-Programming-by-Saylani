{
 "cells": [
  {
   "cell_type": "markdown",
   "metadata": {},
   "source": [
    "# Question No. 1\n",
    "## Object Oriented Programming Language\n",
    "An Object Oriented Programming Language is a high-level language based on object-oriented model. Examples of Object-Oriented Languages are Java, C++, C#, Python."
   ]
  },
  {
   "cell_type": "markdown",
   "metadata": {},
   "source": [
    "# Question No. 2\n",
    "## Benefits of OOP\n",
    "OOP enable us to create modules that don't need to be changed when a new type of object is added. We can simply create a new object that inherits it's features from existing objects.\n",
    "\n",
    "# Question No. 3\n",
    "## Difference b/w Function and Method\n",
    "### Function\n",
    "Function is set of code which is called by name. It gets data to operate on and can also return data.\n",
    "### Method\n",
    "Method is set of code which is called by name that is associated with an object.\n",
    "\n",
    "# Question No. 4\n",
    "## Class\n",
    "A Class is a particular data structure for creating objects, providing initial values and implementation of behavior.\n",
    "\n",
    "## Objects\n",
    "Object is an instance of a particular class with the class's own methods and data variables.\n",
    "\n",
    "## Attribute\n",
    "Attribute is data stored inside a class or instance and represent the state of the class or instance.\n",
    "\n",
    "## Behavior\n",
    "Behavior determines how the class gonna operate. It is the only way objects can do anything to themselves or have anything done to them.\n",
    "\n",
    "# Question No. 5\n",
    "## Code\n",
    "    class car:\n",
    "        model=None\n",
    "        make=None\n",
    "        color=None\n",
    "        name=None\n",
    "        speed=0\n",
    "\n",
    "        def __init__(self,name,make,model,color):\n",
    "            self.name = name\n",
    "            self.make = make\n",
    "            self.model = model\n",
    "            self.color = color\n",
    "            self.seats = seats\n",
    "\n",
    "        def move(self):\n",
    "            self.speed+=1\n",
    "\n",
    "        def move(self,speed):\n",
    "            self.speed += speed\n",
    "\n",
    "        def stop(self):\n",
    "            self.speed = 0\n",
    "\n",
    "    c1 = Car(\"C1\",\"Suzuki\",\"Mehran\",\"Grey\")\n",
    "    c2 = Car(\"C2\",\"Toyota\",\"Corolla\",\"White\")\n",
    "    c3 = Car(\"C3\",\"Honda\",\"Civic\",\"Black\")\n",
    "\n"
   ]
  },
  {
   "cell_type": "code",
   "execution_count": null,
   "metadata": {},
   "outputs": [],
   "source": []
  }
 ],
 "metadata": {
  "kernelspec": {
   "display_name": "Python 3",
   "language": "python",
   "name": "python3"
  },
  "language_info": {
   "codemirror_mode": {
    "name": "ipython",
    "version": 3
   },
   "file_extension": ".py",
   "mimetype": "text/x-python",
   "name": "python",
   "nbconvert_exporter": "python",
   "pygments_lexer": "ipython3",
   "version": "3.6.5"
  }
 },
 "nbformat": 4,
 "nbformat_minor": 2
}
