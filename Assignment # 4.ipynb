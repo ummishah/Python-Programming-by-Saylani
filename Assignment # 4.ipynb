{
 "cells": [
  {
   "cell_type": "code",
   "execution_count": 1,
   "metadata": {},
   "outputs": [
    {
     "name": "stdout",
     "output_type": "stream",
     "text": [
      "User's first_name is Umair\n",
      "User's last_name is Shah\n",
      "User's age is 26\n",
      "User's city is karachi\n",
      "\n",
      "{'first_name': 'Umair', 'last_name': 'Shah', 'age': '26', 'city': 'karachi', 'qualification': 'matric'}\n",
      "{'first_name': 'Umair', 'last_name': 'Shah', 'age': '26', 'city': 'karachi', 'qualification': 'intermediate'}\n",
      "{'first_name': 'Umair', 'last_name': 'Shah', 'age': '26', 'city': 'karachi'}\n"
     ]
    }
   ],
   "source": [
    "#Q1\n",
    "person = {'first_name' : 'Umair',\n",
    "          'last_name' : 'Shah',\n",
    "          'age' : '26',\n",
    "          'city' : 'karachi'\n",
    "         }\n",
    "\n",
    "for keys,value in person.items():\n",
    "    print(\"User's \"+keys+\" is \"+value)\n",
    "print()\n",
    "\n",
    "#Adding key 'qualification' in dictionary:\n",
    "key = 'qualification'\n",
    "person[key] = 'matric'\n",
    "print(person)\n",
    "\n",
    "#Updating key 'qualification' in dictionary:\n",
    "person[key] = 'intermediate'\n",
    "print(person)\n",
    "\n",
    "#Deleting key 'qualification' in dictionary:\n",
    "del person[key]\n",
    "print(person)"
   ]
  },
  {
   "cell_type": "code",
   "execution_count": 2,
   "metadata": {},
   "outputs": [
    {
     "name": "stdout",
     "output_type": "stream",
     "text": [
      "Karachi's country is Pakistan.\n",
      "Karachi's population is 14.9 million.\n",
      "Karachi's fact is It is the most populous city in Pakistan.\n",
      "\n",
      "New York's country is USA.\n",
      "New York's population is 8.623 million.\n",
      "New York's fact is It was originally called Longacre Square.\n",
      "\n",
      "Istanbul's country is Turkey.\n",
      "Istanbul's population is 15.07 million.\n",
      "Istanbul's fact is European experience with an Islamic grace.\n",
      "\n"
     ]
    }
   ],
   "source": [
    "#Q2\n",
    "istanbul = {'country':'Turkey','population':'15.07 million','fact':'European experience with an Islamic grace'}\n",
    "new_york = {'country':'USA','population':'8.623 million','fact':'It was originally called Longacre Square'}\n",
    "karachi = {'country':'Pakistan','population':'14.9 million','fact':'It is the most populous city in Pakistan'}\n",
    "\n",
    "cities = {'Karachi' : karachi,\n",
    "          'New York' : new_york,\n",
    "          'Istanbul' : istanbul\n",
    "         }\n",
    "\n",
    "for city_key in cities.keys():\n",
    "    for key,value in cities[city_key].items():\n",
    "        print(city_key+\"'s \"+key+' is '+value+'.')\n",
    "    print()"
   ]
  },
  {
   "cell_type": "code",
   "execution_count": 3,
   "metadata": {},
   "outputs": [
    {
     "name": "stdout",
     "output_type": "stream",
     "text": [
      "please enter age (enter 0 for exit): 22\n",
      "Your Ticket price is $15\n",
      "\n",
      "please enter age (enter 0 for exit): 0\n",
      "Program Ended.\n"
     ]
    }
   ],
   "source": [
    "#Q3\n",
    "for x in range(9999):\n",
    "    age = int(input(\"please enter age (enter 0 for exit): \"))\n",
    "    if age == 0: \n",
    "        print(\"Program Ended.\")\n",
    "        break\n",
    "    elif age < 0:\n",
    "        print(\"Invalid entry.\",end='\\n\\n')\n",
    "    else:\n",
    "        ticket=None\n",
    "        if age < 3:\n",
    "            ticket='Free'\n",
    "        elif age <= 12:\n",
    "            ticket='$10'\n",
    "        else:\n",
    "            ticket='$15'\n",
    "        print(\"Your Ticket price is \"+ticket,end='\\n\\n')"
   ]
  },
  {
   "cell_type": "code",
   "execution_count": 4,
   "metadata": {},
   "outputs": [
    {
     "name": "stdout",
     "output_type": "stream",
     "text": [
      "One of my favorite books is Learn Python.\n"
     ]
    }
   ],
   "source": [
    "#Q4\n",
    "def favorite_book(title):\n",
    "    print(\"One of my favorite books is \"+title+\".\")\n",
    "\n",
    "favorite_book('Learn Python')"
   ]
  },
  {
   "cell_type": "code",
   "execution_count": 7,
   "metadata": {},
   "outputs": [
    {
     "name": "stdout",
     "output_type": "stream",
     "text": [
      "Tries Left: 3\n",
      "Please enter any number: 15\n",
      "Incorrect Guess. Correct Number is greater than 15 .\n",
      "\n",
      "Tries Left: 2\n",
      "Please enter any number: 20\n",
      "Incorrect Guess. Correct Number is lesser than 20 .\n",
      "\n",
      "Tries Left: 1\n",
      "Please enter any number: 17\n",
      "Your Guess is Correct!\n",
      "\n"
     ]
    }
   ],
   "source": [
    "#Q5\n",
    "import random\n",
    "randomNo = random.randint(1,31)\n",
    "for x in range(3):\n",
    "    print('Tries Left:',(3-x))\n",
    "    user_input = int(input('Please enter any number: '))\n",
    "    if randomNo == user_input:\n",
    "        print(\"Your Guess is Correct!\")\n",
    "    else:\n",
    "        print(\"Incorrect Guess.\",end=' ')\n",
    "        if x==2:\n",
    "            print(\"Correct Number is\",randomNo)\n",
    "        elif randomNo > user_input:\n",
    "            print(\"Correct Number is greater than\",str(user_input),\".\")\n",
    "        elif randomNo < user_input:\n",
    "            print(\"Correct Number is lesser than\",str(user_input),\".\")\n",
    "    print()\n"
   ]
  },
  {
   "cell_type": "code",
   "execution_count": null,
   "metadata": {},
   "outputs": [],
   "source": []
  },
  {
   "cell_type": "code",
   "execution_count": null,
   "metadata": {},
   "outputs": [],
   "source": []
  },
  {
   "cell_type": "code",
   "execution_count": null,
   "metadata": {},
   "outputs": [],
   "source": []
  }
 ],
 "metadata": {
  "kernelspec": {
   "display_name": "Python 3",
   "language": "python",
   "name": "python3"
  },
  "language_info": {
   "codemirror_mode": {
    "name": "ipython",
    "version": 3
   },
   "file_extension": ".py",
   "mimetype": "text/x-python",
   "name": "python",
   "nbconvert_exporter": "python",
   "pygments_lexer": "ipython3",
   "version": "3.6.5"
  }
 },
 "nbformat": 4,
 "nbformat_minor": 2
}
