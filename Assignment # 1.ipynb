{
 "cells": [
  {
   "cell_type": "code",
   "execution_count": 2,
   "metadata": {},
   "outputs": [
    {
     "name": "stdout",
     "output_type": "stream",
     "text": [
      "Twinkle, twinkle, little star,\n",
      "\tHow I wonder what you are!\n",
      "\t\tUp above the world so high,\n",
      "\t\tLike a diamond in the sky.\n",
      "Twinkle, twinkle, little star,\n",
      "\tHow I wonder what you are\n"
     ]
    }
   ],
   "source": [
    "#1\n",
    "first = \"Twinkle, twinkle, little star,\"\n",
    "second = \"How I wonder what you are\"\n",
    "third = \"Up above the world so high,\"\n",
    "forth = \"Like a diamond in the sky.\"\n",
    "\n",
    "print(first+\"\\n\\t\"+second+\"!\\n\\t\\t\"+third+\"\\n\\t\\t\"+forth+\"\\n\"+first+\"\\n\\t\"+second)"
   ]
  },
  {
   "cell_type": "code",
   "execution_count": 3,
   "metadata": {},
   "outputs": [
    {
     "name": "stdout",
     "output_type": "stream",
     "text": [
      "3.6.7\n"
     ]
    }
   ],
   "source": [
    "#2\n",
    "import platform\n",
    "print(platform.python_version())"
   ]
  },
  {
   "cell_type": "code",
   "execution_count": 5,
   "metadata": {},
   "outputs": [
    {
     "name": "stdout",
     "output_type": "stream",
     "text": [
      "2019-11-02 16:12:21.843007\n"
     ]
    }
   ],
   "source": [
    "#3\n",
    "from datetime import datetime\n",
    "print(datetime.now())"
   ]
  },
  {
   "cell_type": "code",
   "execution_count": 3,
   "metadata": {},
   "outputs": [
    {
     "name": "stdout",
     "output_type": "stream",
     "text": [
      "Please enter radius: 4\n",
      "50.272\n"
     ]
    }
   ],
   "source": [
    "#4\n",
    "radius = int(input(\"Please enter radius: \"))\n",
    "pi = 3.142\n",
    "area = pi * (radius**2)\n",
    "\n",
    "print(area)"
   ]
  },
  {
   "cell_type": "code",
   "execution_count": 7,
   "metadata": {},
   "outputs": [
    {
     "name": "stdout",
     "output_type": "stream",
     "text": [
      "Please enter your first name: Umair\n",
      "Please enter your last name: Shah\n",
      "h a h S   r i a m U\n"
     ]
    }
   ],
   "source": [
    "#5\n",
    "first_name = input(\"Please enter your first name: \")\n",
    "last_name = input(\"Please enter your last name: \")\n",
    "full_name = first_name + \" \" + last_name\n",
    "reverse_order = full_name[::-1]\n",
    "full_reversed_name_with_space = \" \".join(reverse_order)\n",
    "\n",
    "print(full_reversed_name_with_space)"
   ]
  },
  {
   "cell_type": "code",
   "execution_count": 8,
   "metadata": {},
   "outputs": [
    {
     "name": "stdout",
     "output_type": "stream",
     "text": [
      "Enter First Number: 12\n",
      "Enter Second Number: 23\n",
      "35\n"
     ]
    }
   ],
   "source": [
    "#6\n",
    "first = int(input(\"Enter First Number: \"))\n",
    "second = int(input(\"Enter Second Number: \"))\n",
    "result = first + second\n",
    "print(result)"
   ]
  },
  {
   "cell_type": "code",
   "execution_count": null,
   "metadata": {},
   "outputs": [],
   "source": []
  }
 ],
 "metadata": {
  "kernelspec": {
   "display_name": "Python 3",
   "language": "python",
   "name": "python3"
  },
  "language_info": {
   "codemirror_mode": {
    "name": "ipython",
    "version": 3
   },
   "file_extension": ".py",
   "mimetype": "text/x-python",
   "name": "python",
   "nbconvert_exporter": "python",
   "pygments_lexer": "ipython3",
   "version": "3.6.7"
  }
 },
 "nbformat": 4,
 "nbformat_minor": 2
}
